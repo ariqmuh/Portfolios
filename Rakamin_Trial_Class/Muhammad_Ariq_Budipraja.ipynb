{
  "nbformat": 4,
  "nbformat_minor": 5,
  "metadata": {
    "kernelspec": {
      "display_name": "Python 3 (ipykernel)",
      "language": "python",
      "name": "python3"
    },
    "language_info": {
      "codemirror_mode": {
        "name": "ipython",
        "version": 3
      },
      "file_extension": ".py",
      "mimetype": "text/x-python",
      "name": "python",
      "nbconvert_exporter": "python",
      "pygments_lexer": "ipython3",
      "version": "3.9.6"
    },
    "colab": {
      "name": "Muhammad Ariq Budipraja.ipynb",
      "provenance": [],
      "collapsed_sections": []
    }
  },
  "cells": [
    {
      "cell_type": "markdown",
      "metadata": {
        "id": "ae0654e1"
      },
      "source": [
        "### Homework Rakamin Trial Class - Mini Case"
      ],
      "id": "ae0654e1"
    },
    {
      "cell_type": "markdown",
      "metadata": {
        "id": "578645f2"
      },
      "source": [
        "# Mengukur Performa Penjualan Ritel Online"
      ],
      "id": "578645f2"
    },
    {
      "cell_type": "markdown",
      "metadata": {
        "id": "ebf52fe7"
      },
      "source": [
        "## Load Data"
      ],
      "id": "ebf52fe7"
    },
    {
      "cell_type": "code",
      "metadata": {
        "id": "sCM0XLXrR5Yd"
      },
      "source": [
        "import pandas as pd\n",
        "import matplotlib.pyplot as plt\n",
        "import seaborn as sns"
      ],
      "id": "sCM0XLXrR5Yd",
      "execution_count": 29,
      "outputs": []
    },
    {
      "cell_type": "code",
      "metadata": {
        "id": "6c4b0183",
        "colab": {
          "base_uri": "https://localhost:8080/"
        },
        "outputId": "4016c7d4-084f-4e98-ba26-7dce2ac25473"
      },
      "source": [
        "from google.colab import drive\n",
        "drive.mount('/content/drive')"
      ],
      "id": "6c4b0183",
      "execution_count": 14,
      "outputs": [
        {
          "output_type": "stream",
          "name": "stdout",
          "text": [
            "Drive already mounted at /content/drive; to attempt to forcibly remount, call drive.mount(\"/content/drive\", force_remount=True).\n"
          ]
        }
      ]
    },
    {
      "cell_type": "code",
      "metadata": {
        "colab": {
          "base_uri": "https://localhost:8080/",
          "height": 419
        },
        "id": "_OxnihllSmDh",
        "outputId": "84ddc149-5ef5-4784-c64c-23a315ac3a0e"
      },
      "source": [
        "df = pd.read_csv('/content/drive/MyDrive/Dataset/online_retail_II.csv')\n",
        "df"
      ],
      "id": "_OxnihllSmDh",
      "execution_count": 15,
      "outputs": [
        {
          "output_type": "execute_result",
          "data": {
            "text/html": [
              "<div>\n",
              "<style scoped>\n",
              "    .dataframe tbody tr th:only-of-type {\n",
              "        vertical-align: middle;\n",
              "    }\n",
              "\n",
              "    .dataframe tbody tr th {\n",
              "        vertical-align: top;\n",
              "    }\n",
              "\n",
              "    .dataframe thead th {\n",
              "        text-align: right;\n",
              "    }\n",
              "</style>\n",
              "<table border=\"1\" class=\"dataframe\">\n",
              "  <thead>\n",
              "    <tr style=\"text-align: right;\">\n",
              "      <th></th>\n",
              "      <th>Invoice</th>\n",
              "      <th>StockCode</th>\n",
              "      <th>Description</th>\n",
              "      <th>Quantity</th>\n",
              "      <th>InvoiceDate</th>\n",
              "      <th>Price</th>\n",
              "      <th>Customer ID</th>\n",
              "      <th>Country</th>\n",
              "    </tr>\n",
              "  </thead>\n",
              "  <tbody>\n",
              "    <tr>\n",
              "      <th>0</th>\n",
              "      <td>489434</td>\n",
              "      <td>85048</td>\n",
              "      <td>15CM CHRISTMAS GLASS BALL 20 LIGHTS</td>\n",
              "      <td>12</td>\n",
              "      <td>2009-12-01 07:45:00</td>\n",
              "      <td>6.95</td>\n",
              "      <td>13085.0</td>\n",
              "      <td>United Kingdom</td>\n",
              "    </tr>\n",
              "    <tr>\n",
              "      <th>1</th>\n",
              "      <td>489434</td>\n",
              "      <td>79323P</td>\n",
              "      <td>PINK CHERRY LIGHTS</td>\n",
              "      <td>12</td>\n",
              "      <td>2009-12-01 07:45:00</td>\n",
              "      <td>6.75</td>\n",
              "      <td>13085.0</td>\n",
              "      <td>United Kingdom</td>\n",
              "    </tr>\n",
              "    <tr>\n",
              "      <th>2</th>\n",
              "      <td>489434</td>\n",
              "      <td>79323W</td>\n",
              "      <td>WHITE CHERRY LIGHTS</td>\n",
              "      <td>12</td>\n",
              "      <td>2009-12-01 07:45:00</td>\n",
              "      <td>6.75</td>\n",
              "      <td>13085.0</td>\n",
              "      <td>United Kingdom</td>\n",
              "    </tr>\n",
              "    <tr>\n",
              "      <th>3</th>\n",
              "      <td>489434</td>\n",
              "      <td>22041</td>\n",
              "      <td>RECORD FRAME 7\" SINGLE SIZE</td>\n",
              "      <td>48</td>\n",
              "      <td>2009-12-01 07:45:00</td>\n",
              "      <td>2.10</td>\n",
              "      <td>13085.0</td>\n",
              "      <td>United Kingdom</td>\n",
              "    </tr>\n",
              "    <tr>\n",
              "      <th>4</th>\n",
              "      <td>489434</td>\n",
              "      <td>21232</td>\n",
              "      <td>STRAWBERRY CERAMIC TRINKET BOX</td>\n",
              "      <td>24</td>\n",
              "      <td>2009-12-01 07:45:00</td>\n",
              "      <td>1.25</td>\n",
              "      <td>13085.0</td>\n",
              "      <td>United Kingdom</td>\n",
              "    </tr>\n",
              "    <tr>\n",
              "      <th>...</th>\n",
              "      <td>...</td>\n",
              "      <td>...</td>\n",
              "      <td>...</td>\n",
              "      <td>...</td>\n",
              "      <td>...</td>\n",
              "      <td>...</td>\n",
              "      <td>...</td>\n",
              "      <td>...</td>\n",
              "    </tr>\n",
              "    <tr>\n",
              "      <th>1067366</th>\n",
              "      <td>581587</td>\n",
              "      <td>22899</td>\n",
              "      <td>CHILDREN'S APRON DOLLY GIRL</td>\n",
              "      <td>6</td>\n",
              "      <td>2011-12-09 12:50:00</td>\n",
              "      <td>2.10</td>\n",
              "      <td>12680.0</td>\n",
              "      <td>France</td>\n",
              "    </tr>\n",
              "    <tr>\n",
              "      <th>1067367</th>\n",
              "      <td>581587</td>\n",
              "      <td>23254</td>\n",
              "      <td>CHILDRENS CUTLERY DOLLY GIRL</td>\n",
              "      <td>4</td>\n",
              "      <td>2011-12-09 12:50:00</td>\n",
              "      <td>4.15</td>\n",
              "      <td>12680.0</td>\n",
              "      <td>France</td>\n",
              "    </tr>\n",
              "    <tr>\n",
              "      <th>1067368</th>\n",
              "      <td>581587</td>\n",
              "      <td>23255</td>\n",
              "      <td>CHILDRENS CUTLERY CIRCUS PARADE</td>\n",
              "      <td>4</td>\n",
              "      <td>2011-12-09 12:50:00</td>\n",
              "      <td>4.15</td>\n",
              "      <td>12680.0</td>\n",
              "      <td>France</td>\n",
              "    </tr>\n",
              "    <tr>\n",
              "      <th>1067369</th>\n",
              "      <td>581587</td>\n",
              "      <td>22138</td>\n",
              "      <td>BAKING SET 9 PIECE RETROSPOT</td>\n",
              "      <td>3</td>\n",
              "      <td>2011-12-09 12:50:00</td>\n",
              "      <td>4.95</td>\n",
              "      <td>12680.0</td>\n",
              "      <td>France</td>\n",
              "    </tr>\n",
              "    <tr>\n",
              "      <th>1067370</th>\n",
              "      <td>581587</td>\n",
              "      <td>POST</td>\n",
              "      <td>POSTAGE</td>\n",
              "      <td>1</td>\n",
              "      <td>2011-12-09 12:50:00</td>\n",
              "      <td>18.00</td>\n",
              "      <td>12680.0</td>\n",
              "      <td>France</td>\n",
              "    </tr>\n",
              "  </tbody>\n",
              "</table>\n",
              "<p>1067371 rows × 8 columns</p>\n",
              "</div>"
            ],
            "text/plain": [
              "        Invoice StockCode  ... Customer ID         Country\n",
              "0        489434     85048  ...     13085.0  United Kingdom\n",
              "1        489434    79323P  ...     13085.0  United Kingdom\n",
              "2        489434    79323W  ...     13085.0  United Kingdom\n",
              "3        489434     22041  ...     13085.0  United Kingdom\n",
              "4        489434     21232  ...     13085.0  United Kingdom\n",
              "...         ...       ...  ...         ...             ...\n",
              "1067366  581587     22899  ...     12680.0          France\n",
              "1067367  581587     23254  ...     12680.0          France\n",
              "1067368  581587     23255  ...     12680.0          France\n",
              "1067369  581587     22138  ...     12680.0          France\n",
              "1067370  581587      POST  ...     12680.0          France\n",
              "\n",
              "[1067371 rows x 8 columns]"
            ]
          },
          "metadata": {},
          "execution_count": 15
        }
      ]
    },
    {
      "cell_type": "markdown",
      "metadata": {
        "id": "794e2063"
      },
      "source": [
        "## Section 1"
      ],
      "id": "794e2063"
    },
    {
      "cell_type": "markdown",
      "metadata": {
        "id": "0ead195f"
      },
      "source": [
        "### Create New Feature: Year"
      ],
      "id": "0ead195f"
    },
    {
      "cell_type": "code",
      "metadata": {
        "id": "5a1281e7",
        "colab": {
          "base_uri": "https://localhost:8080/"
        },
        "outputId": "47863f87-f4f3-4015-b369-a08c9531b2c0"
      },
      "source": [
        "df['Year'] = pd.DatetimeIndex(df['InvoiceDate']).year\n",
        "df['Year']"
      ],
      "id": "5a1281e7",
      "execution_count": 16,
      "outputs": [
        {
          "output_type": "execute_result",
          "data": {
            "text/plain": [
              "0          2009\n",
              "1          2009\n",
              "2          2009\n",
              "3          2009\n",
              "4          2009\n",
              "           ... \n",
              "1067366    2011\n",
              "1067367    2011\n",
              "1067368    2011\n",
              "1067369    2011\n",
              "1067370    2011\n",
              "Name: Year, Length: 1067371, dtype: int64"
            ]
          },
          "metadata": {},
          "execution_count": 16
        }
      ]
    },
    {
      "cell_type": "markdown",
      "metadata": {
        "id": "9a9f5438"
      },
      "source": [
        "### Filtering Data"
      ],
      "id": "9a9f5438"
    },
    {
      "cell_type": "code",
      "metadata": {
        "id": "547a9e99",
        "colab": {
          "base_uri": "https://localhost:8080/",
          "height": 419
        },
        "outputId": "80470390-b201-4527-ec0c-b248669ab4ba"
      },
      "source": [
        "sales = df[(df['Quantity'] >= 1) & (df['Invoice'].str.contains('C')==False)]\n",
        "sales"
      ],
      "id": "547a9e99",
      "execution_count": 24,
      "outputs": [
        {
          "output_type": "execute_result",
          "data": {
            "text/html": [
              "<div>\n",
              "<style scoped>\n",
              "    .dataframe tbody tr th:only-of-type {\n",
              "        vertical-align: middle;\n",
              "    }\n",
              "\n",
              "    .dataframe tbody tr th {\n",
              "        vertical-align: top;\n",
              "    }\n",
              "\n",
              "    .dataframe thead th {\n",
              "        text-align: right;\n",
              "    }\n",
              "</style>\n",
              "<table border=\"1\" class=\"dataframe\">\n",
              "  <thead>\n",
              "    <tr style=\"text-align: right;\">\n",
              "      <th></th>\n",
              "      <th>Invoice</th>\n",
              "      <th>StockCode</th>\n",
              "      <th>Description</th>\n",
              "      <th>Quantity</th>\n",
              "      <th>InvoiceDate</th>\n",
              "      <th>Price</th>\n",
              "      <th>Customer ID</th>\n",
              "      <th>Country</th>\n",
              "      <th>Year</th>\n",
              "    </tr>\n",
              "  </thead>\n",
              "  <tbody>\n",
              "    <tr>\n",
              "      <th>0</th>\n",
              "      <td>489434</td>\n",
              "      <td>85048</td>\n",
              "      <td>15CM CHRISTMAS GLASS BALL 20 LIGHTS</td>\n",
              "      <td>12</td>\n",
              "      <td>2009-12-01 07:45:00</td>\n",
              "      <td>6.95</td>\n",
              "      <td>13085.0</td>\n",
              "      <td>United Kingdom</td>\n",
              "      <td>2009</td>\n",
              "    </tr>\n",
              "    <tr>\n",
              "      <th>1</th>\n",
              "      <td>489434</td>\n",
              "      <td>79323P</td>\n",
              "      <td>PINK CHERRY LIGHTS</td>\n",
              "      <td>12</td>\n",
              "      <td>2009-12-01 07:45:00</td>\n",
              "      <td>6.75</td>\n",
              "      <td>13085.0</td>\n",
              "      <td>United Kingdom</td>\n",
              "      <td>2009</td>\n",
              "    </tr>\n",
              "    <tr>\n",
              "      <th>2</th>\n",
              "      <td>489434</td>\n",
              "      <td>79323W</td>\n",
              "      <td>WHITE CHERRY LIGHTS</td>\n",
              "      <td>12</td>\n",
              "      <td>2009-12-01 07:45:00</td>\n",
              "      <td>6.75</td>\n",
              "      <td>13085.0</td>\n",
              "      <td>United Kingdom</td>\n",
              "      <td>2009</td>\n",
              "    </tr>\n",
              "    <tr>\n",
              "      <th>3</th>\n",
              "      <td>489434</td>\n",
              "      <td>22041</td>\n",
              "      <td>RECORD FRAME 7\" SINGLE SIZE</td>\n",
              "      <td>48</td>\n",
              "      <td>2009-12-01 07:45:00</td>\n",
              "      <td>2.10</td>\n",
              "      <td>13085.0</td>\n",
              "      <td>United Kingdom</td>\n",
              "      <td>2009</td>\n",
              "    </tr>\n",
              "    <tr>\n",
              "      <th>4</th>\n",
              "      <td>489434</td>\n",
              "      <td>21232</td>\n",
              "      <td>STRAWBERRY CERAMIC TRINKET BOX</td>\n",
              "      <td>24</td>\n",
              "      <td>2009-12-01 07:45:00</td>\n",
              "      <td>1.25</td>\n",
              "      <td>13085.0</td>\n",
              "      <td>United Kingdom</td>\n",
              "      <td>2009</td>\n",
              "    </tr>\n",
              "    <tr>\n",
              "      <th>...</th>\n",
              "      <td>...</td>\n",
              "      <td>...</td>\n",
              "      <td>...</td>\n",
              "      <td>...</td>\n",
              "      <td>...</td>\n",
              "      <td>...</td>\n",
              "      <td>...</td>\n",
              "      <td>...</td>\n",
              "      <td>...</td>\n",
              "    </tr>\n",
              "    <tr>\n",
              "      <th>1067366</th>\n",
              "      <td>581587</td>\n",
              "      <td>22899</td>\n",
              "      <td>CHILDREN'S APRON DOLLY GIRL</td>\n",
              "      <td>6</td>\n",
              "      <td>2011-12-09 12:50:00</td>\n",
              "      <td>2.10</td>\n",
              "      <td>12680.0</td>\n",
              "      <td>France</td>\n",
              "      <td>2011</td>\n",
              "    </tr>\n",
              "    <tr>\n",
              "      <th>1067367</th>\n",
              "      <td>581587</td>\n",
              "      <td>23254</td>\n",
              "      <td>CHILDRENS CUTLERY DOLLY GIRL</td>\n",
              "      <td>4</td>\n",
              "      <td>2011-12-09 12:50:00</td>\n",
              "      <td>4.15</td>\n",
              "      <td>12680.0</td>\n",
              "      <td>France</td>\n",
              "      <td>2011</td>\n",
              "    </tr>\n",
              "    <tr>\n",
              "      <th>1067368</th>\n",
              "      <td>581587</td>\n",
              "      <td>23255</td>\n",
              "      <td>CHILDRENS CUTLERY CIRCUS PARADE</td>\n",
              "      <td>4</td>\n",
              "      <td>2011-12-09 12:50:00</td>\n",
              "      <td>4.15</td>\n",
              "      <td>12680.0</td>\n",
              "      <td>France</td>\n",
              "      <td>2011</td>\n",
              "    </tr>\n",
              "    <tr>\n",
              "      <th>1067369</th>\n",
              "      <td>581587</td>\n",
              "      <td>22138</td>\n",
              "      <td>BAKING SET 9 PIECE RETROSPOT</td>\n",
              "      <td>3</td>\n",
              "      <td>2011-12-09 12:50:00</td>\n",
              "      <td>4.95</td>\n",
              "      <td>12680.0</td>\n",
              "      <td>France</td>\n",
              "      <td>2011</td>\n",
              "    </tr>\n",
              "    <tr>\n",
              "      <th>1067370</th>\n",
              "      <td>581587</td>\n",
              "      <td>POST</td>\n",
              "      <td>POSTAGE</td>\n",
              "      <td>1</td>\n",
              "      <td>2011-12-09 12:50:00</td>\n",
              "      <td>18.00</td>\n",
              "      <td>12680.0</td>\n",
              "      <td>France</td>\n",
              "      <td>2011</td>\n",
              "    </tr>\n",
              "  </tbody>\n",
              "</table>\n",
              "<p>1044420 rows × 9 columns</p>\n",
              "</div>"
            ],
            "text/plain": [
              "        Invoice StockCode  ...         Country  Year\n",
              "0        489434     85048  ...  United Kingdom  2009\n",
              "1        489434    79323P  ...  United Kingdom  2009\n",
              "2        489434    79323W  ...  United Kingdom  2009\n",
              "3        489434     22041  ...  United Kingdom  2009\n",
              "4        489434     21232  ...  United Kingdom  2009\n",
              "...         ...       ...  ...             ...   ...\n",
              "1067366  581587     22899  ...          France  2011\n",
              "1067367  581587     23254  ...          France  2011\n",
              "1067368  581587     23255  ...          France  2011\n",
              "1067369  581587     22138  ...          France  2011\n",
              "1067370  581587      POST  ...          France  2011\n",
              "\n",
              "[1044420 rows x 9 columns]"
            ]
          },
          "metadata": {},
          "execution_count": 24
        }
      ]
    },
    {
      "cell_type": "markdown",
      "metadata": {
        "id": "0bef109f"
      },
      "source": [
        "### Create New Feature: Revenue"
      ],
      "id": "0bef109f"
    },
    {
      "cell_type": "code",
      "metadata": {
        "id": "9a670915",
        "colab": {
          "base_uri": "https://localhost:8080/"
        },
        "outputId": "00c6c582-149b-4e0c-b8ed-0ebcf75c4094"
      },
      "source": [
        "df['Revenue'] = df['Quantity'] * df['Price']\n",
        "df['Revenue']"
      ],
      "id": "9a670915",
      "execution_count": 27,
      "outputs": [
        {
          "output_type": "execute_result",
          "data": {
            "text/plain": [
              "0           83.40\n",
              "1           81.00\n",
              "2           81.00\n",
              "3          100.80\n",
              "4           30.00\n",
              "            ...  \n",
              "1067366     12.60\n",
              "1067367     16.60\n",
              "1067368     16.60\n",
              "1067369     14.85\n",
              "1067370     18.00\n",
              "Name: Revenue, Length: 1067371, dtype: float64"
            ]
          },
          "metadata": {},
          "execution_count": 27
        }
      ]
    },
    {
      "cell_type": "markdown",
      "metadata": {
        "id": "c955f053"
      },
      "source": [
        "### Average of Revenue per Year"
      ],
      "id": "c955f053"
    },
    {
      "cell_type": "code",
      "metadata": {
        "id": "4a2e5ed4",
        "colab": {
          "base_uri": "https://localhost:8080/"
        },
        "outputId": "781bacab-96c0-4412-fca7-33d276460b36"
      },
      "source": [
        "average_revenue_per_year = df['Revenue'].groupby(df['Year']).mean()\n",
        "average_revenue_per_year"
      ],
      "id": "4a2e5ed4",
      "execution_count": 28,
      "outputs": [
        {
          "output_type": "execute_result",
          "data": {
            "text/plain": [
              "Year\n",
              "2009    17.684777\n",
              "2010    18.152555\n",
              "2011    18.018195\n",
              "Name: Revenue, dtype: float64"
            ]
          },
          "metadata": {},
          "execution_count": 28
        }
      ]
    },
    {
      "cell_type": "code",
      "metadata": {
        "colab": {
          "base_uri": "https://localhost:8080/",
          "height": 411
        },
        "id": "A9ijl5CAwa3A",
        "outputId": "7e3365d3-4375-48de-a0d8-bed16c1306d1"
      },
      "source": [
        "plt.figure(figsize=(14, 6))\n",
        "sns.barplot(x=average_revenue_per_year.index, y=average_revenue_per_year.values)\n",
        "plt.title('Average Revenue per Year', fontsize=18)\n",
        "plt.xlabel('Year', fontsize=12)\n",
        "plt.ylabel('Average Revenue', fontsize=12)\n",
        "plt.show()"
      ],
      "id": "A9ijl5CAwa3A",
      "execution_count": 32,
      "outputs": [
        {
          "output_type": "display_data",
          "data": {
            "image/png": "[encoded data removed]",
            "text/plain": [
              "<Figure size 1008x432 with 1 Axes>"
            ]
          },
          "metadata": {
            "needs_background": "light"
          }
        }
      ]
    },
    {
      "cell_type": "code",
      "metadata": {
        "colab": {
          "base_uri": "https://localhost:8080/"
        },
        "id": "4H1D2mssyPGN",
        "outputId": "4b2e7858-24dd-4e99-adc5-49c9d9e4c961"
      },
      "source": [
        "print('Average Revenue:', round(df['Revenue'].mean(), 2))"
      ],
      "id": "4H1D2mssyPGN",
      "execution_count": 35,
      "outputs": [
        {
          "output_type": "stream",
          "name": "stdout",
          "text": [
            "Average Revenue: 18.07\n"
          ]
        }
      ]
    },
    {
      "cell_type": "markdown",
      "metadata": {
        "id": "8823e17c"
      },
      "source": [
        "### Interpretation"
      ],
      "id": "8823e17c"
    },
    {
      "cell_type": "markdown",
      "metadata": {
        "id": "3739a278"
      },
      "source": [
        "Dari grafik diatas dapat terlihat bahwa rata-rata revenue tertinggi terdapat pada tahun 2010. Sedangkan rata-rata revenue terendah terdapat pada tahun 2009. Rata-rata revenue per tahun berkisar di angka 17.68 - 18.15      \n",
        "\n",
        "Perlu dicermati penjualan pada tahun 2011, karena mengalami penurunan rata-rata revenue dari tahun 2010.\n",
        "\n",
        "\n"
      ],
      "id": "3739a278"
    },
    {
      "cell_type": "markdown",
      "metadata": {
        "id": "4ff5f5d4"
      },
      "source": [
        "## Section 2"
      ],
      "id": "4ff5f5d4"
    },
    {
      "cell_type": "markdown",
      "metadata": {
        "id": "8dadd5ef"
      },
      "source": [
        "### Filtering Data "
      ],
      "id": "8dadd5ef"
    },
    {
      "cell_type": "markdown",
      "metadata": {
        "id": "2c053fd2"
      },
      "source": [
        "#### Customers who finished their purchases"
      ],
      "id": "2c053fd2"
    },
    {
      "cell_type": "code",
      "metadata": {
        "id": "d992a159",
        "colab": {
          "base_uri": "https://localhost:8080/",
          "height": 419
        },
        "outputId": "b57e996f-e6e5-4a07-ac25-e1833cc9b658"
      },
      "source": [
        "finished = sales[sales['Customer ID'].notnull()]\n",
        "finished"
      ],
      "id": "d992a159",
      "execution_count": 43,
      "outputs": [
        {
          "output_type": "execute_result",
          "data": {
            "text/html": [
              "<div>\n",
              "<style scoped>\n",
              "    .dataframe tbody tr th:only-of-type {\n",
              "        vertical-align: middle;\n",
              "    }\n",
              "\n",
              "    .dataframe tbody tr th {\n",
              "        vertical-align: top;\n",
              "    }\n",
              "\n",
              "    .dataframe thead th {\n",
              "        text-align: right;\n",
              "    }\n",
              "</style>\n",
              "<table border=\"1\" class=\"dataframe\">\n",
              "  <thead>\n",
              "    <tr style=\"text-align: right;\">\n",
              "      <th></th>\n",
              "      <th>Invoice</th>\n",
              "      <th>StockCode</th>\n",
              "      <th>Description</th>\n",
              "      <th>Quantity</th>\n",
              "      <th>InvoiceDate</th>\n",
              "      <th>Price</th>\n",
              "      <th>Customer ID</th>\n",
              "      <th>Country</th>\n",
              "      <th>Year</th>\n",
              "    </tr>\n",
              "  </thead>\n",
              "  <tbody>\n",
              "    <tr>\n",
              "      <th>0</th>\n",
              "      <td>489434</td>\n",
              "      <td>85048</td>\n",
              "      <td>15CM CHRISTMAS GLASS BALL 20 LIGHTS</td>\n",
              "      <td>12</td>\n",
              "      <td>2009-12-01 07:45:00</td>\n",
              "      <td>6.95</td>\n",
              "      <td>13085.0</td>\n",
              "      <td>United Kingdom</td>\n",
              "      <td>2009</td>\n",
              "    </tr>\n",
              "    <tr>\n",
              "      <th>1</th>\n",
              "      <td>489434</td>\n",
              "      <td>79323P</td>\n",
              "      <td>PINK CHERRY LIGHTS</td>\n",
              "      <td>12</td>\n",
              "      <td>2009-12-01 07:45:00</td>\n",
              "      <td>6.75</td>\n",
              "      <td>13085.0</td>\n",
              "      <td>United Kingdom</td>\n",
              "      <td>2009</td>\n",
              "    </tr>\n",
              "    <tr>\n",
              "      <th>2</th>\n",
              "      <td>489434</td>\n",
              "      <td>79323W</td>\n",
              "      <td>WHITE CHERRY LIGHTS</td>\n",
              "      <td>12</td>\n",
              "      <td>2009-12-01 07:45:00</td>\n",
              "      <td>6.75</td>\n",
              "      <td>13085.0</td>\n",
              "      <td>United Kingdom</td>\n",
              "      <td>2009</td>\n",
              "    </tr>\n",
              "    <tr>\n",
              "      <th>3</th>\n",
              "      <td>489434</td>\n",
              "      <td>22041</td>\n",
              "      <td>RECORD FRAME 7\" SINGLE SIZE</td>\n",
              "      <td>48</td>\n",
              "      <td>2009-12-01 07:45:00</td>\n",
              "      <td>2.10</td>\n",
              "      <td>13085.0</td>\n",
              "      <td>United Kingdom</td>\n",
              "      <td>2009</td>\n",
              "    </tr>\n",
              "    <tr>\n",
              "      <th>4</th>\n",
              "      <td>489434</td>\n",
              "      <td>21232</td>\n",
              "      <td>STRAWBERRY CERAMIC TRINKET BOX</td>\n",
              "      <td>24</td>\n",
              "      <td>2009-12-01 07:45:00</td>\n",
              "      <td>1.25</td>\n",
              "      <td>13085.0</td>\n",
              "      <td>United Kingdom</td>\n",
              "      <td>2009</td>\n",
              "    </tr>\n",
              "    <tr>\n",
              "      <th>...</th>\n",
              "      <td>...</td>\n",
              "      <td>...</td>\n",
              "      <td>...</td>\n",
              "      <td>...</td>\n",
              "      <td>...</td>\n",
              "      <td>...</td>\n",
              "      <td>...</td>\n",
              "      <td>...</td>\n",
              "      <td>...</td>\n",
              "    </tr>\n",
              "    <tr>\n",
              "      <th>1067366</th>\n",
              "      <td>581587</td>\n",
              "      <td>22899</td>\n",
              "      <td>CHILDREN'S APRON DOLLY GIRL</td>\n",
              "      <td>6</td>\n",
              "      <td>2011-12-09 12:50:00</td>\n",
              "      <td>2.10</td>\n",
              "      <td>12680.0</td>\n",
              "      <td>France</td>\n",
              "      <td>2011</td>\n",
              "    </tr>\n",
              "    <tr>\n",
              "      <th>1067367</th>\n",
              "      <td>581587</td>\n",
              "      <td>23254</td>\n",
              "      <td>CHILDRENS CUTLERY DOLLY GIRL</td>\n",
              "      <td>4</td>\n",
              "      <td>2011-12-09 12:50:00</td>\n",
              "      <td>4.15</td>\n",
              "      <td>12680.0</td>\n",
              "      <td>France</td>\n",
              "      <td>2011</td>\n",
              "    </tr>\n",
              "    <tr>\n",
              "      <th>1067368</th>\n",
              "      <td>581587</td>\n",
              "      <td>23255</td>\n",
              "      <td>CHILDRENS CUTLERY CIRCUS PARADE</td>\n",
              "      <td>4</td>\n",
              "      <td>2011-12-09 12:50:00</td>\n",
              "      <td>4.15</td>\n",
              "      <td>12680.0</td>\n",
              "      <td>France</td>\n",
              "      <td>2011</td>\n",
              "    </tr>\n",
              "    <tr>\n",
              "      <th>1067369</th>\n",
              "      <td>581587</td>\n",
              "      <td>22138</td>\n",
              "      <td>BAKING SET 9 PIECE RETROSPOT</td>\n",
              "      <td>3</td>\n",
              "      <td>2011-12-09 12:50:00</td>\n",
              "      <td>4.95</td>\n",
              "      <td>12680.0</td>\n",
              "      <td>France</td>\n",
              "      <td>2011</td>\n",
              "    </tr>\n",
              "    <tr>\n",
              "      <th>1067370</th>\n",
              "      <td>581587</td>\n",
              "      <td>POST</td>\n",
              "      <td>POSTAGE</td>\n",
              "      <td>1</td>\n",
              "      <td>2011-12-09 12:50:00</td>\n",
              "      <td>18.00</td>\n",
              "      <td>12680.0</td>\n",
              "      <td>France</td>\n",
              "      <td>2011</td>\n",
              "    </tr>\n",
              "  </tbody>\n",
              "</table>\n",
              "<p>805620 rows × 9 columns</p>\n",
              "</div>"
            ],
            "text/plain": [
              "        Invoice StockCode  ...         Country  Year\n",
              "0        489434     85048  ...  United Kingdom  2009\n",
              "1        489434    79323P  ...  United Kingdom  2009\n",
              "2        489434    79323W  ...  United Kingdom  2009\n",
              "3        489434     22041  ...  United Kingdom  2009\n",
              "4        489434     21232  ...  United Kingdom  2009\n",
              "...         ...       ...  ...             ...   ...\n",
              "1067366  581587     22899  ...          France  2011\n",
              "1067367  581587     23254  ...          France  2011\n",
              "1067368  581587     23255  ...          France  2011\n",
              "1067369  581587     22138  ...          France  2011\n",
              "1067370  581587      POST  ...          France  2011\n",
              "\n",
              "[805620 rows x 9 columns]"
            ]
          },
          "metadata": {},
          "execution_count": 43
        }
      ]
    },
    {
      "cell_type": "markdown",
      "metadata": {
        "id": "136b9900"
      },
      "source": [
        "#### Customers who canceled their purchases"
      ],
      "id": "136b9900"
    },
    {
      "cell_type": "code",
      "metadata": {
        "id": "98af92ed",
        "colab": {
          "base_uri": "https://localhost:8080/",
          "height": 419
        },
        "outputId": "b8cde969-b7f5-42c2-8499-a2cc94cc5e57"
      },
      "source": [
        "cancel = df[df['Invoice'].str.contains('C')]\n",
        "cancel"
      ],
      "id": "98af92ed",
      "execution_count": 46,
      "outputs": [
        {
          "output_type": "execute_result",
          "data": {
            "text/html": [
              "<div>\n",
              "<style scoped>\n",
              "    .dataframe tbody tr th:only-of-type {\n",
              "        vertical-align: middle;\n",
              "    }\n",
              "\n",
              "    .dataframe tbody tr th {\n",
              "        vertical-align: top;\n",
              "    }\n",
              "\n",
              "    .dataframe thead th {\n",
              "        text-align: right;\n",
              "    }\n",
              "</style>\n",
              "<table border=\"1\" class=\"dataframe\">\n",
              "  <thead>\n",
              "    <tr style=\"text-align: right;\">\n",
              "      <th></th>\n",
              "      <th>Invoice</th>\n",
              "      <th>StockCode</th>\n",
              "      <th>Description</th>\n",
              "      <th>Quantity</th>\n",
              "      <th>InvoiceDate</th>\n",
              "      <th>Price</th>\n",
              "      <th>Customer ID</th>\n",
              "      <th>Country</th>\n",
              "      <th>Year</th>\n",
              "      <th>Revenue</th>\n",
              "    </tr>\n",
              "  </thead>\n",
              "  <tbody>\n",
              "    <tr>\n",
              "      <th>178</th>\n",
              "      <td>C489449</td>\n",
              "      <td>22087</td>\n",
              "      <td>PAPER BUNTING WHITE LACE</td>\n",
              "      <td>-12</td>\n",
              "      <td>2009-12-01 10:33:00</td>\n",
              "      <td>2.95</td>\n",
              "      <td>16321.0</td>\n",
              "      <td>Australia</td>\n",
              "      <td>2009</td>\n",
              "      <td>-35.40</td>\n",
              "    </tr>\n",
              "    <tr>\n",
              "      <th>179</th>\n",
              "      <td>C489449</td>\n",
              "      <td>85206A</td>\n",
              "      <td>CREAM FELT EASTER EGG BASKET</td>\n",
              "      <td>-6</td>\n",
              "      <td>2009-12-01 10:33:00</td>\n",
              "      <td>1.65</td>\n",
              "      <td>16321.0</td>\n",
              "      <td>Australia</td>\n",
              "      <td>2009</td>\n",
              "      <td>-9.90</td>\n",
              "    </tr>\n",
              "    <tr>\n",
              "      <th>180</th>\n",
              "      <td>C489449</td>\n",
              "      <td>21895</td>\n",
              "      <td>POTTING SHED SOW 'N' GROW SET</td>\n",
              "      <td>-4</td>\n",
              "      <td>2009-12-01 10:33:00</td>\n",
              "      <td>4.25</td>\n",
              "      <td>16321.0</td>\n",
              "      <td>Australia</td>\n",
              "      <td>2009</td>\n",
              "      <td>-17.00</td>\n",
              "    </tr>\n",
              "    <tr>\n",
              "      <th>181</th>\n",
              "      <td>C489449</td>\n",
              "      <td>21896</td>\n",
              "      <td>POTTING SHED TWINE</td>\n",
              "      <td>-6</td>\n",
              "      <td>2009-12-01 10:33:00</td>\n",
              "      <td>2.10</td>\n",
              "      <td>16321.0</td>\n",
              "      <td>Australia</td>\n",
              "      <td>2009</td>\n",
              "      <td>-12.60</td>\n",
              "    </tr>\n",
              "    <tr>\n",
              "      <th>182</th>\n",
              "      <td>C489449</td>\n",
              "      <td>22083</td>\n",
              "      <td>PAPER CHAIN KIT RETRO SPOT</td>\n",
              "      <td>-12</td>\n",
              "      <td>2009-12-01 10:33:00</td>\n",
              "      <td>2.95</td>\n",
              "      <td>16321.0</td>\n",
              "      <td>Australia</td>\n",
              "      <td>2009</td>\n",
              "      <td>-35.40</td>\n",
              "    </tr>\n",
              "    <tr>\n",
              "      <th>...</th>\n",
              "      <td>...</td>\n",
              "      <td>...</td>\n",
              "      <td>...</td>\n",
              "      <td>...</td>\n",
              "      <td>...</td>\n",
              "      <td>...</td>\n",
              "      <td>...</td>\n",
              "      <td>...</td>\n",
              "      <td>...</td>\n",
              "      <td>...</td>\n",
              "    </tr>\n",
              "    <tr>\n",
              "      <th>1065910</th>\n",
              "      <td>C581490</td>\n",
              "      <td>23144</td>\n",
              "      <td>ZINC T-LIGHT HOLDER STARS SMALL</td>\n",
              "      <td>-11</td>\n",
              "      <td>2011-12-09 09:57:00</td>\n",
              "      <td>0.83</td>\n",
              "      <td>14397.0</td>\n",
              "      <td>United Kingdom</td>\n",
              "      <td>2011</td>\n",
              "      <td>-9.13</td>\n",
              "    </tr>\n",
              "    <tr>\n",
              "      <th>1067002</th>\n",
              "      <td>C581499</td>\n",
              "      <td>M</td>\n",
              "      <td>Manual</td>\n",
              "      <td>-1</td>\n",
              "      <td>2011-12-09 10:28:00</td>\n",
              "      <td>224.69</td>\n",
              "      <td>15498.0</td>\n",
              "      <td>United Kingdom</td>\n",
              "      <td>2011</td>\n",
              "      <td>-224.69</td>\n",
              "    </tr>\n",
              "    <tr>\n",
              "      <th>1067176</th>\n",
              "      <td>C581568</td>\n",
              "      <td>21258</td>\n",
              "      <td>VICTORIAN SEWING BOX LARGE</td>\n",
              "      <td>-5</td>\n",
              "      <td>2011-12-09 11:57:00</td>\n",
              "      <td>10.95</td>\n",
              "      <td>15311.0</td>\n",
              "      <td>United Kingdom</td>\n",
              "      <td>2011</td>\n",
              "      <td>-54.75</td>\n",
              "    </tr>\n",
              "    <tr>\n",
              "      <th>1067177</th>\n",
              "      <td>C581569</td>\n",
              "      <td>84978</td>\n",
              "      <td>HANGING HEART JAR T-LIGHT HOLDER</td>\n",
              "      <td>-1</td>\n",
              "      <td>2011-12-09 11:58:00</td>\n",
              "      <td>1.25</td>\n",
              "      <td>17315.0</td>\n",
              "      <td>United Kingdom</td>\n",
              "      <td>2011</td>\n",
              "      <td>-1.25</td>\n",
              "    </tr>\n",
              "    <tr>\n",
              "      <th>1067178</th>\n",
              "      <td>C581569</td>\n",
              "      <td>20979</td>\n",
              "      <td>36 PENCILS TUBE RED RETROSPOT</td>\n",
              "      <td>-5</td>\n",
              "      <td>2011-12-09 11:58:00</td>\n",
              "      <td>1.25</td>\n",
              "      <td>17315.0</td>\n",
              "      <td>United Kingdom</td>\n",
              "      <td>2011</td>\n",
              "      <td>-6.25</td>\n",
              "    </tr>\n",
              "  </tbody>\n",
              "</table>\n",
              "<p>19494 rows × 10 columns</p>\n",
              "</div>"
            ],
            "text/plain": [
              "         Invoice StockCode  ...  Year  Revenue\n",
              "178      C489449     22087  ...  2009   -35.40\n",
              "179      C489449    85206A  ...  2009    -9.90\n",
              "180      C489449     21895  ...  2009   -17.00\n",
              "181      C489449     21896  ...  2009   -12.60\n",
              "182      C489449     22083  ...  2009   -35.40\n",
              "...          ...       ...  ...   ...      ...\n",
              "1065910  C581490     23144  ...  2011    -9.13\n",
              "1067002  C581499         M  ...  2011  -224.69\n",
              "1067176  C581568     21258  ...  2011   -54.75\n",
              "1067177  C581569     84978  ...  2011    -1.25\n",
              "1067178  C581569     20979  ...  2011    -6.25\n",
              "\n",
              "[19494 rows x 10 columns]"
            ]
          },
          "metadata": {},
          "execution_count": 46
        }
      ]
    },
    {
      "cell_type": "markdown",
      "metadata": {
        "id": "d3fbb31a"
      },
      "source": [
        "### Number of Finished and Canceled Transactions Each Year"
      ],
      "id": "d3fbb31a"
    },
    {
      "cell_type": "code",
      "metadata": {
        "id": "04158c66",
        "colab": {
          "base_uri": "https://localhost:8080/"
        },
        "outputId": "4b7b69fa-92ff-43b6-9179-f63d2ee53f89"
      },
      "source": [
        "finised_transaction_per_year = finished['Invoice'].groupby(finished['Year']).count()\n",
        "finised_transaction_per_year"
      ],
      "id": "04158c66",
      "execution_count": 52,
      "outputs": [
        {
          "output_type": "execute_result",
          "data": {
            "text/plain": [
              "Year\n",
              "2009     30761\n",
              "2010    403094\n",
              "2011    371765\n",
              "Name: Invoice, dtype: int64"
            ]
          },
          "metadata": {},
          "execution_count": 52
        }
      ]
    },
    {
      "cell_type": "code",
      "metadata": {
        "colab": {
          "base_uri": "https://localhost:8080/",
          "height": 411
        },
        "id": "oeGtMmvm3sd8",
        "outputId": "904f28b4-e1e1-4ce8-cf91-5b405d97b4bf"
      },
      "source": [
        "plt.figure(figsize=(14, 6))\n",
        "sns.barplot(x=finised_transaction_per_year.index, y=finised_transaction_per_year.values)\n",
        "plt.title('Finished Transactions per Year', fontsize=18)\n",
        "plt.xlabel('Year', fontsize=12)\n",
        "plt.ylabel('Total Transactions', fontsize=12)\n",
        "plt.show()"
      ],
      "id": "oeGtMmvm3sd8",
      "execution_count": 53,
      "outputs": [
        {
          "output_type": "display_data",
          "data": {
            "image/png": "[encoded data removed]",
            "text/plain": [
              "<Figure size 1008x432 with 1 Axes>"
            ]
          },
          "metadata": {
            "needs_background": "light"
          }
        }
      ]
    },
    {
      "cell_type": "code",
      "metadata": {
        "colab": {
          "base_uri": "https://localhost:8080/"
        },
        "id": "zejEdO7B4dMZ",
        "outputId": "40201dd7-5b5b-4ce4-c9a4-4c20d5ffede4"
      },
      "source": [
        "cancel_transaction_per_year = cancel['Invoice'].groupby(cancel['Year']).count()\n",
        "cancel_transaction_per_year"
      ],
      "id": "zejEdO7B4dMZ",
      "execution_count": 54,
      "outputs": [
        {
          "output_type": "execute_result",
          "data": {
            "text/plain": [
              "Year\n",
              "2009    1015\n",
              "2010    9919\n",
              "2011    8560\n",
              "Name: Invoice, dtype: int64"
            ]
          },
          "metadata": {},
          "execution_count": 54
        }
      ]
    },
    {
      "cell_type": "code",
      "metadata": {
        "colab": {
          "base_uri": "https://localhost:8080/",
          "height": 411
        },
        "id": "3GD-vhqD4oIQ",
        "outputId": "79b274e3-1707-4474-be50-d2f699d6fe99"
      },
      "source": [
        "plt.figure(figsize=(14, 6))\n",
        "sns.barplot(x=cancel_transaction_per_year.index, y=cancel_transaction_per_year.values)\n",
        "plt.title('Canceled Transactions per Year', fontsize=18)\n",
        "plt.xlabel('Year', fontsize=12)\n",
        "plt.ylabel('Total Transactions', fontsize=12)\n",
        "plt.show()"
      ],
      "id": "3GD-vhqD4oIQ",
      "execution_count": 55,
      "outputs": [
        {
          "output_type": "display_data",
          "data": {
            "image/png": "[encoded data removed]",
            "text/plain": [
              "<Figure size 1008x432 with 1 Axes>"
            ]
          },
          "metadata": {
            "needs_background": "light"
          }
        }
      ]
    },
    {
      "cell_type": "markdown",
      "metadata": {
        "id": "158f85e3"
      },
      "source": [
        "### Cancellation Rate"
      ],
      "id": "158f85e3"
    },
    {
      "cell_type": "code",
      "metadata": {
        "id": "ca8edaa1",
        "colab": {
          "base_uri": "https://localhost:8080/"
        },
        "outputId": "5bcc71ae-c22d-4216-f4db-e023e2008d00"
      },
      "source": [
        "cancel_2009 = cancel[cancel['Year']==2009]['Invoice'].count()\n",
        "cancel_2010 = cancel[cancel['Year']==2010]['Invoice'].count()\n",
        "cancel_2011 = cancel[cancel['Year']==2011]['Invoice'].count()\n",
        "\n",
        "total_2009 = df[df['Year']==2009]['Invoice'].count()\n",
        "total_2010 = df[df['Year']==2010]['Invoice'].count()\n",
        "total_2011 = df[df['Year']==2011]['Invoice'].count()\n",
        "\n",
        "cr_2009 = round(cancel_2009/total_2009*100, 2)\n",
        "cr_2010 = round(cancel_2010/total_2010*100, 2)\n",
        "cr_2011 = round(cancel_2009/total_2011*100, 2)\n",
        "\n",
        "cr = [cr_2009, cr_2010, cr_2011]\n",
        "year = [2009, 2010, 2011]\n",
        "\n",
        "print('Cancellation rate 2009 =', cr_2009, '%')\n",
        "print('Cancellation rate 2010 =', cr_2010, '%')\n",
        "print('Cancellation rate 2011 =', cr_2011, '%')"
      ],
      "id": "ca8edaa1",
      "execution_count": 63,
      "outputs": [
        {
          "output_type": "stream",
          "name": "stdout",
          "text": [
            "Cancellation rate 2009 = 2.24 %\n",
            "Cancellation rate 2010 = 1.9 %\n",
            "Cancellation rate 2011 = 0.2 %\n"
          ]
        }
      ]
    },
    {
      "cell_type": "code",
      "metadata": {
        "colab": {
          "base_uri": "https://localhost:8080/",
          "height": 411
        },
        "id": "tPpk_h3mG9Tm",
        "outputId": "d6891cb0-170b-46aa-c911-55b7c5996c53"
      },
      "source": [
        "plt.figure(figsize=(14, 6))\n",
        "sns.barplot(x=year, y=cr)\n",
        "plt.title('Cancellation Rate per Year', fontsize=18)\n",
        "plt.xlabel('Year', fontsize=12)\n",
        "plt.ylabel('Cancellation Rate (in percent)', fontsize=12)\n",
        "plt.show()"
      ],
      "id": "tPpk_h3mG9Tm",
      "execution_count": 65,
      "outputs": [
        {
          "output_type": "display_data",
          "data": {
            "image/png": "[encoded data removed]",
            "text/plain": [
              "<Figure size 1008x432 with 1 Axes>"
            ]
          },
          "metadata": {
            "needs_background": "light"
          }
        }
      ]
    },
    {
      "cell_type": "markdown",
      "metadata": {
        "id": "8866bcd4"
      },
      "source": [
        "### Interpretation"
      ],
      "id": "8866bcd4"
    },
    {
      "cell_type": "markdown",
      "metadata": {
        "id": "09c84168"
      },
      "source": [
        "Berdasarkan grafik transaksi yang dibatalkan dan transaksi yang berhasil:\n",
        "- Setiap tahunnya transaksi yang berhasil selalu lebih banyak dibandingkan yang dibatalkan.\n",
        "- Pada grafik transaksi yang berhasil terlihat bahwa pada tahun 2010 terjadi kenaikan yang signifikan dibandingkan dengan tahun sebelumnya. Namun, di tahun 2011 terjadi sedikit penurunan.\n",
        "- Pada grafik transaksi yang dibatalkan pun terlihat terjadi kenaikan signifikan pada tahun 2010. Namun, pada tahun 2011 kembali terjadi sedikit penurunan.\n",
        "- Kenaikan pada transaksi yang berhasil diikuti juga dengan kenaikan pada transaksi yang dibatalkan. Begitupun penurunan pada transaksi yang berhasil diikuti juga dengan penurunan pada transaksi yang dibatalkan.          \n",
        "\n",
        "Berdasarkan grafik cancellation rate:\n",
        "- Cancellation rate dari 2009 hingga 2011 terus menurun angkanya. Hal ini merupakan suatu pertanda bagus karena dapat mengurangi jumlah transaksi yang dibatalkan setiap tahunnya.\n",
        "- Pada tahun 2011, angka cancellation rate menurun dengan signifikan dibanding pada tahun sebelumnya. Hal ini menunjukkan strategi yang diterapkan untuk mengurangi transaksi dibatalkan sudah dapat berjalan dengan baik. "
      ],
      "id": "09c84168"
    }
  ]
}